{
  "nbformat": 4,
  "nbformat_minor": 0,
  "metadata": {
    "colab": {
      "provenance": []
    },
    "kernelspec": {
      "name": "python3",
      "display_name": "Python 3"
    },
    "language_info": {
      "name": "python"
    }
  },
  "cells": [
    {
      "cell_type": "markdown",
      "source": [
        "# 데이터 역량 개발 스터디"
      ],
      "metadata": {
        "id": "gPslYQxUOGg8"
      }
    },
    {
      "cell_type": "code",
      "source": [
        "# 실행 코드 작성\n",
        "print(\"안녕하세요\")"
      ],
      "metadata": {
        "colab": {
          "base_uri": "https://localhost:8080/"
        },
        "id": "YJJtXPm6bK0y",
        "outputId": "b62264b1-30f8-451e-b2b4-64e9dd1ab59d"
      },
      "execution_count": 2,
      "outputs": [
        {
          "output_type": "stream",
          "name": "stdout",
          "text": [
            "안녕하세요\n"
          ]
        }
      ]
    },
    {
      "cell_type": "code",
      "source": [],
      "metadata": {
        "id": "St5wCzNyPZFi"
      },
      "execution_count": null,
      "outputs": []
    }
  ]
}
